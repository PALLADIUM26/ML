{
  "nbformat": 4,
  "nbformat_minor": 0,
  "metadata": {
    "colab": {
      "provenance": [],
      "authorship_tag": "ABX9TyPfvcksZKCXXSBgaDjHf94i",
      "include_colab_link": true
    },
    "kernelspec": {
      "name": "python3",
      "display_name": "Python 3"
    },
    "language_info": {
      "name": "python"
    }
  },
  "cells": [
    {
      "cell_type": "markdown",
      "metadata": {
        "id": "view-in-github",
        "colab_type": "text"
      },
      "source": [
        "<a href=\"https://colab.research.google.com/github/PALLADIUM26/ML/blob/main/ML2_nrgd.ipynb\" target=\"_parent\"><img src=\"https://colab.research.google.com/assets/colab-badge.svg\" alt=\"Open In Colab\"/></a>"
      ]
    },
    {
      "cell_type": "markdown",
      "source": [
        "2.\tPerform a non-linear regression algorithm to predict China’s GDP from year 1960 to 2014 from given features. Elaborate gradient descent algorithm and hyper-parameter tuning for the best result with predefined convergent criteria.\n",
        "Dataset: china_gdp.csv\n"
      ],
      "metadata": {
        "id": "epQqeOM-26pG"
      }
    },
    {
      "cell_type": "code",
      "execution_count": null,
      "metadata": {
        "id": "QsdZgsYJv6By"
      },
      "outputs": [],
      "source": [
        "import pandas as pd\n",
        "import numpy as np\n",
        "import matplotlib.pyplot as plt"
      ]
    },
    {
      "cell_type": "code",
      "source": [
        "df = pd.read_csv('china_gdp.csv')\n",
        "print(df.head())"
      ],
      "metadata": {
        "id": "ejZaMfDPwDWt",
        "colab": {
          "base_uri": "https://localhost:8080/"
        },
        "outputId": "15245eab-8cbb-4a2f-ceee-0b2ec5355a84"
      },
      "execution_count": null,
      "outputs": [
        {
          "output_type": "stream",
          "name": "stdout",
          "text": [
            "   Year         Value\n",
            "0  1960  5.918412e+10\n",
            "1  1961  4.955705e+10\n",
            "2  1962  4.668518e+10\n",
            "3  1963  5.009730e+10\n",
            "4  1964  5.906225e+10\n"
          ]
        }
      ]
    },
    {
      "cell_type": "code",
      "source": [
        "# Extract data\n",
        "x_data = df[\"Year\"].values\n",
        "y_data = df[\"Value\"].values"
      ],
      "metadata": {
        "id": "pkG9NbPlwE7M"
      },
      "execution_count": null,
      "outputs": []
    },
    {
      "cell_type": "code",
      "source": [
        "# Normalize\n",
        "x = x_data / max(x_data)\n",
        "y = y_data / max(y_data)"
      ],
      "metadata": {
        "id": "V1H32gndwIVV"
      },
      "execution_count": null,
      "outputs": []
    },
    {
      "cell_type": "code",
      "source": [
        "# Logistic function\n",
        "def sigmoid(x, L, k, x0):\n",
        "    return L / (1 + np.exp(-k * (x - x0)))"
      ],
      "metadata": {
        "id": "ubn4AGVOwGcc"
      },
      "execution_count": null,
      "outputs": []
    },
    {
      "cell_type": "code",
      "source": [
        "# Gradient descent for non-linear model\n",
        "def gradient_descent(x, y, L, k, x0, alpha, iterations):\n",
        "    m = len(x)\n",
        "    cost_history = []\n",
        "    for i in range(iterations):\n",
        "        y_pred = sigmoid(x, L, k, x0)\n",
        "        error = y_pred - y\n",
        "        cost = np.sum(error ** 2) / (2 * m)\n",
        "        cost_history.append(cost)\n",
        "\n",
        "        # Compute gradients numerically (simplified)\n",
        "        dL = np.sum(error * (1 / (1 + np.exp(-k * (x - x0))))) / m\n",
        "        dk = np.sum(error * L * (x - x0) * np.exp(-k * (x - x0)) / ((1 + np.exp(-k * (x - x0))) ** 2)) / m\n",
        "        dx0 = np.sum(error * L * k * np.exp(-k * (x - x0)) / ((1 + np.exp(-k * (x - x0))) ** 2)) / m\n",
        "\n",
        "        # Update parameters\n",
        "        L -= alpha * dL\n",
        "        k -= alpha * dk\n",
        "        x0 -= alpha * dx0\n",
        "        # Convergence condition\n",
        "        if i > 1 and abs(cost_history[-1] - cost_history[-2]) < 1e-6:\n",
        "            break\n",
        "    return L, k, x0, cost_history"
      ],
      "metadata": {
        "id": "uEBzKI_2wKH1"
      },
      "execution_count": null,
      "outputs": []
    },
    {
      "cell_type": "code",
      "source": [
        "# Initialize parameters\n",
        "L = 1\n",
        "k = 1\n",
        "x0 = 0.5\n",
        "alpha = 0.1\n",
        "iterations = 10000\n",
        "L_final, k_final, x0_final, cost_history = gradient_descent(x, y, L, k, x0, alpha, iterations)\n",
        "print(f\"Optimal parameters: L={L_final}, k={k_final}, x0={x0_final}\")"
      ],
      "metadata": {
        "id": "Nn5wKIqwwPBd",
        "colab": {
          "base_uri": "https://localhost:8080/"
        },
        "outputId": "996bda65-b813-4ee9-ce4c-9a4b96e48406"
      },
      "execution_count": null,
      "outputs": [
        {
          "output_type": "stream",
          "name": "stdout",
          "text": [
            "Optimal parameters: L=0.22335620753293403, k=0.900065934451286, x0=0.33049893727398616\n"
          ]
        }
      ]
    },
    {
      "cell_type": "code",
      "source": [
        "# Predict using the trained model\n",
        "x_range = np.linspace(min(x), max(x), 100)\n",
        "y_pred = sigmoid(x_range, L_final, k_final, x0_final)"
      ],
      "metadata": {
        "id": "JWsf8Zl2wRut"
      },
      "execution_count": null,
      "outputs": []
    },
    {
      "cell_type": "code",
      "source": [
        "# Convert back to original scale\n",
        "plt.scatter(x_data, y_data, label='Original Data')\n",
        "plt.plot(x_range * max(x_data), y_pred * max(y_data), color='red', label='Fitted Logistic Curve')\n",
        "plt.xlabel(\"Year\")\n",
        "plt.ylabel(\"GDP\")\n",
        "plt.legend()\n",
        "plt.title(\"China GDP Non-linear Regression\")\n",
        "plt.grid(True)\n",
        "plt.show()"
      ],
      "metadata": {
        "id": "V9oX9lBLwTLs",
        "colab": {
          "base_uri": "https://localhost:8080/",
          "height": 472
        },
        "outputId": "1d98f51b-5fdf-4e13-ceae-a884979200ac"
      },
      "execution_count": null,
      "outputs": [
        {
          "output_type": "display_data",
          "data": {
            "text/plain": [
              "<Figure size 640x480 with 1 Axes>"
            ],
            "image/png": "[encoded data removed]"
          },
          "metadata": {}
        }
      ]
    },
    {
      "cell_type": "code",
      "source": [
        "from sklearn.metrics import mean_squared_error, r2_score\n",
        "y_fit = sigmoid(x, L_final, k_final, x0_final)\n",
        "mse = mean_squared_error(y, y_fit)\n",
        "r2 = r2_score(y, y_fit)\n",
        "print(f\"MSE: {mse:.6f}\")\n",
        "print(f\"R² Score: {r2:.6f}\")"
      ],
      "metadata": {
        "id": "6Wjcjq8AwVlM",
        "colab": {
          "base_uri": "https://localhost:8080/"
        },
        "outputId": "0b6f45ac-c7e9-4b0d-87f9-63e2ceb242a5"
      },
      "execution_count": null,
      "outputs": [
        {
          "output_type": "stream",
          "name": "stdout",
          "text": [
            "MSE: 0.057133\n",
            "R² Score: 0.001768\n"
          ]
        }
      ]
    }
  ]
}