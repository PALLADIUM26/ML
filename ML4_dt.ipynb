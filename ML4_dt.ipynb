{
  "nbformat": 4,
  "nbformat_minor": 0,
  "metadata": {
    "colab": {
      "provenance": [],
      "authorship_tag": "ABX9TyNuwPyRU7dsCDK8bbfGtWJu",
      "include_colab_link": true
    },
    "kernelspec": {
      "name": "python3",
      "display_name": "Python 3"
    },
    "language_info": {
      "name": "python"
    }
  },
  "cells": [
    {
      "cell_type": "markdown",
      "metadata": {
        "id": "view-in-github",
        "colab_type": "text"
      },
      "source": [
        "<a href=\"https://colab.research.google.com/github/PALLADIUM26/ML/blob/main/ML4_dt.ipynb\" target=\"_parent\"><img src=\"https://colab.research.google.com/assets/colab-badge.svg\" alt=\"Open In Colab\"/></a>"
      ]
    },
    {
      "cell_type": "markdown",
      "source": [
        "4.\tUsing Decision Tree algorithm, predict which drug among drug X, drug Y and drug C should be given to a patient. Find the accuracy of the decision tree in predicting the correct drug for the patient.\n",
        "Dataset: drug.csv\n"
      ],
      "metadata": {
        "id": "hkYLENk47ic1"
      }
    },
    {
      "cell_type": "code",
      "execution_count": null,
      "metadata": {
        "id": "kNLI12t2xh7b"
      },
      "outputs": [],
      "source": [
        "import pandas as pd\n",
        "from sklearn.model_selection import train_test_split\n",
        "from sklearn.preprocessing import LabelEncoder\n",
        "from sklearn.tree import DecisionTreeClassifier\n",
        "from sklearn.metrics import accuracy_score"
      ]
    },
    {
      "cell_type": "code",
      "source": [
        "# Load the dataset\n",
        "file_path = \"drug.csv\"  # Change this to your file path\n",
        "df = pd.read_csv(file_path)"
      ],
      "metadata": {
        "id": "KytsmrjAxltF"
      },
      "execution_count": null,
      "outputs": []
    },
    {
      "cell_type": "code",
      "source": [
        "# Encode categorical variables\n",
        "label_encoders = {}\n",
        "for col in [\"Sex\", \"BP\", \"Cholesterol\", \"Drug\"]:\n",
        "    le = LabelEncoder()\n",
        "    df[col] = le.fit_transform(df[col])\n",
        "    label_encoders[col] = le"
      ],
      "metadata": {
        "id": "SdrRACMzxnS0"
      },
      "execution_count": null,
      "outputs": []
    },
    {
      "cell_type": "code",
      "source": [
        "# Define features and target variable\n",
        "X = df.drop(columns=[\"Drug\"])\n",
        "y = df[\"Drug\"]"
      ],
      "metadata": {
        "id": "ix5Qm1V3xp98"
      },
      "execution_count": null,
      "outputs": []
    },
    {
      "cell_type": "code",
      "source": [
        "# Split dataset into training and testing sets (80% train, 20% test)\n",
        "X_train, X_test, y_train, y_test = train_test_split(X, y, test_size=0.2, random_state=4)"
      ],
      "metadata": {
        "id": "_IKA58TYxrxz"
      },
      "execution_count": null,
      "outputs": []
    },
    {
      "cell_type": "code",
      "source": [
        "# Train a Decision Tree classifier with specified parameters\n",
        "dtree = DecisionTreeClassifier(criterion='entropy', max_depth=None)\n",
        "dtree_y_pred = dtree.fit(X_train, y_train).predict(X_test)"
      ],
      "metadata": {
        "id": "VhUdHULCxtT7"
      },
      "execution_count": null,
      "outputs": []
    },
    {
      "cell_type": "code",
      "source": [
        "# Calculate accuracy\n",
        "dtree_acc = accuracy_score(y_test, dtree_y_pred)\n",
        "print(f'Accuracy of Decision Tree Classifier: {dtree_acc * 100:.2f}%')"
      ],
      "metadata": {
        "id": "ai7GM-6lxurz",
        "colab": {
          "base_uri": "https://localhost:8080/"
        },
        "outputId": "915620ee-e2f2-4091-b30c-ca9c1100c3ba"
      },
      "execution_count": null,
      "outputs": [
        {
          "output_type": "stream",
          "name": "stdout",
          "text": [
            "Accuracy of Decision Tree Classifier: 95.00%\n"
          ]
        }
      ]
    }
  ]
}