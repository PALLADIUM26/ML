{
  "nbformat": 4,
  "nbformat_minor": 0,
  "metadata": {
    "colab": {
      "provenance": [],
      "authorship_tag": "ABX9TyMKwlrPBClmyOKUrH1x56yL",
      "include_colab_link": true
    },
    "kernelspec": {
      "name": "python3",
      "display_name": "Python 3"
    },
    "language_info": {
      "name": "python"
    }
  },
  "cells": [
    {
      "cell_type": "markdown",
      "metadata": {
        "id": "view-in-github",
        "colab_type": "text"
      },
      "source": [
        "<a href=\"https://colab.research.google.com/github/PALLADIUM26/ML/blob/main/ML14_movies.ipynb\" target=\"_parent\"><img src=\"https://colab.research.google.com/assets/colab-badge.svg\" alt=\"Open In Colab\"/></a>"
      ]
    },
    {
      "cell_type": "markdown",
      "source": [
        "14.\tDesign a recommender system (content based or item-item recommendation) for movie data.\n",
        "Dataset: Movies dataset\n"
      ],
      "metadata": {
        "id": "xoy3syTo-sxU"
      }
    },
    {
      "cell_type": "code",
      "execution_count": 8,
      "metadata": {
        "id": "Tq7Tscrm6gzq"
      },
      "outputs": [],
      "source": [
        "import pandas as pd\n",
        "from sklearn.feature_extraction.text import TfidfVectorizer\n",
        "from sklearn.metrics.pairwise import cosine_similarity"
      ]
    },
    {
      "cell_type": "code",
      "source": [
        "movies=pd.read_csv('movies.csv')\n",
        "movies.dropna(inplace=True)\n",
        "movies = movies.head(1000)  # we can adjust this number if RAM allows\n",
        "print(movies)"
      ],
      "metadata": {
        "id": "XdQs40sn7Qvi",
        "colab": {
          "base_uri": "https://localhost:8080/"
        },
        "outputId": "545efd3a-26fd-40ac-a424-9dcf8316cc99"
      },
      "execution_count": 9,
      "outputs": [
        {
          "output_type": "stream",
          "name": "stdout",
          "text": [
            "     movieId                                          title  \\\n",
            "0          1                               Toy Story (1995)   \n",
            "1          2                                 Jumanji (1995)   \n",
            "2          3                        Grumpier Old Men (1995)   \n",
            "3          4                       Waiting to Exhale (1995)   \n",
            "4          5             Father of the Bride Part II (1995)   \n",
            "..       ...                                            ...   \n",
            "995     1014                               Pollyanna (1960)   \n",
            "996     1015  Homeward Bound: The Incredible Journey (1993)   \n",
            "997     1016                         Shaggy Dog, The (1959)   \n",
            "998     1017                   Swiss Family Robinson (1960)   \n",
            "999     1018                          That Darn Cat! (1965)   \n",
            "\n",
            "                                          genres  \n",
            "0    Adventure|Animation|Children|Comedy|Fantasy  \n",
            "1                     Adventure|Children|Fantasy  \n",
            "2                                 Comedy|Romance  \n",
            "3                           Comedy|Drama|Romance  \n",
            "4                                         Comedy  \n",
            "..                                           ...  \n",
            "995                        Children|Comedy|Drama  \n",
            "996                     Adventure|Children|Drama  \n",
            "997                              Children|Comedy  \n",
            "998                           Adventure|Children  \n",
            "999                      Children|Comedy|Mystery  \n",
            "\n",
            "[1000 rows x 3 columns]\n"
          ]
        }
      ]
    },
    {
      "cell_type": "code",
      "source": [
        "from sklearn.feature_extraction.text import TfidfVectorizer\n",
        "from sklearn.metrics.pairwise import cosine_similarity"
      ],
      "metadata": {
        "id": "V-5e57Xm7SYx"
      },
      "execution_count": 3,
      "outputs": []
    },
    {
      "cell_type": "code",
      "source": [
        "# Clean genre strings\n",
        "movies['genres'] = movies['genres'].str.replace('|', ' ', regex=False)\n",
        "# TF-IDF transformation\n",
        "tfidf = TfidfVectorizer()\n",
        "tfidf_matrix = tfidf.fit_transform(movies['genres'])"
      ],
      "metadata": {
        "id": "IfKyVb9s7TjZ"
      },
      "execution_count": 10,
      "outputs": []
    },
    {
      "cell_type": "code",
      "source": [
        "cosine_sim = cosine_similarity(tfidf_matrix)\n",
        "indices = pd.Series(movies.index, index=movies['title']).drop_duplicates()"
      ],
      "metadata": {
        "id": "O2ihdij37U_4"
      },
      "execution_count": 11,
      "outputs": []
    },
    {
      "cell_type": "code",
      "source": [
        "def recommend_movie(title, num_recommendations=5):\n",
        "    if title not in indices:\n",
        "        return \"Movie not found in dataset.\"\n",
        "    idx = indices[title]\n",
        "    sim_scores = list(enumerate(cosine_sim[idx]))\n",
        "    sim_scores = sorted(sim_scores, key=lambda x: x[1], reverse=True)\n",
        "    sim_scores = sim_scores[1:num_recommendations+1]\n",
        "    movie_indices = [i[0] for i in sim_scores]\n",
        "    return movies['title'].iloc[movie_indices].tolist()\n"
      ],
      "metadata": {
        "id": "momJondl7YBx"
      },
      "execution_count": 12,
      "outputs": []
    },
    {
      "cell_type": "code",
      "source": [
        "print(\"🎥 Recommendations for 'Heat (1995)':\")\n",
        "recommendations = recommend_movie('Heat (1995)', 3)\n",
        "print(recommendations)\n",
        "for i, movie in enumerate(recommendations, 1):\n",
        "    print(f\"{i}. {movie}\")\n"
      ],
      "metadata": {
        "id": "bJfoy1CH7ZvQ",
        "colab": {
          "base_uri": "https://localhost:8080/"
        },
        "outputId": "d9b33cd8-dd5a-4a6e-a9e9-05ec4a017f79"
      },
      "execution_count": 15,
      "outputs": [
        {
          "output_type": "stream",
          "name": "stdout",
          "text": [
            "🎥 Recommendations for 'Heat (1995)':\n",
            "['Assassins (1995)', 'Die Hard: With a Vengeance (1995)', 'Net, The (1995)']\n",
            "1. Assassins (1995)\n",
            "2. Die Hard: With a Vengeance (1995)\n",
            "3. Net, The (1995)\n"
          ]
        }
      ]
    }
  ]
}