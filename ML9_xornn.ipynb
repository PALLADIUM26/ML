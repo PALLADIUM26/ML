{
  "nbformat": 4,
  "nbformat_minor": 0,
  "metadata": {
    "colab": {
      "provenance": [],
      "authorship_tag": "ABX9TyPLh9IB7rlqr7dUh3H1FMCM",
      "include_colab_link": true
    },
    "kernelspec": {
      "name": "python3",
      "display_name": "Python 3"
    },
    "language_info": {
      "name": "python"
    }
  },
  "cells": [
    {
      "cell_type": "markdown",
      "metadata": {
        "id": "view-in-github",
        "colab_type": "text"
      },
      "source": [
        "<a href=\"https://colab.research.google.com/github/PALLADIUM26/ML/blob/main/ML9_xornn.ipynb\" target=\"_parent\"><img src=\"https://colab.research.google.com/assets/colab-badge.svg\" alt=\"Open In Colab\"/></a>"
      ]
    },
    {
      "cell_type": "markdown",
      "source": [
        "9.\tDesign and train the neural network that computes the functionality of XOR function."
      ],
      "metadata": {
        "id": "AscsS2GaALSi"
      }
    },
    {
      "cell_type": "code",
      "execution_count": 1,
      "metadata": {
        "id": "m-VhJ1GBzPTl"
      },
      "outputs": [],
      "source": [
        "# Step 1: Import libraries\n",
        "import numpy as np\n",
        "from tensorflow.keras.models import Sequential\n",
        "from tensorflow.keras.layers import Dense\n",
        "from tensorflow.keras.optimizers import Adam"
      ]
    },
    {
      "cell_type": "code",
      "source": [
        "# Step 2: Define XOR data\n",
        "X = np.array([[0, 0],\n",
        "              [0, 1],\n",
        "              [1, 0],\n",
        "              [1, 1]])\n",
        "y = np.array([[0],\n",
        "              [1],\n",
        "              [1],\n",
        "              [0]])"
      ],
      "metadata": {
        "id": "efrStlGCzVR7"
      },
      "execution_count": null,
      "outputs": []
    },
    {
      "cell_type": "code",
      "source": [
        "# Step 3: Build the model\n",
        "model = Sequential()\n",
        "model.add(Dense(4, input_dim=2, activation='relu'))  # Hidden layer with 4 neurons\n",
        "model.add(Dense(1, activation='sigmoid'))            # Output layer"
      ],
      "metadata": {
        "id": "w92KY9XqzXUD",
        "colab": {
          "base_uri": "https://localhost:8080/"
        },
        "outputId": "3222e7f8-be5b-4424-9bac-940e0857fda4"
      },
      "execution_count": null,
      "outputs": [
        {
          "output_type": "stream",
          "name": "stderr",
          "text": [
            "/usr/local/lib/python3.11/dist-packages/keras/src/layers/core/dense.py:87: UserWarning: Do not pass an `input_shape`/`input_dim` argument to a layer. When using Sequential models, prefer using an `Input(shape)` object as the first layer in the model instead.\n",
            "  super().__init__(activity_regularizer=activity_regularizer, **kwargs)\n"
          ]
        }
      ]
    },
    {
      "cell_type": "code",
      "source": [
        "# Step 4: Compile the model\n",
        "model.compile(optimizer=Adam(learning_rate=0.1), loss='binary_crossentropy', metrics=['accuracy'])"
      ],
      "metadata": {
        "id": "SAOY0OptzZm7"
      },
      "execution_count": null,
      "outputs": []
    },
    {
      "cell_type": "code",
      "source": [
        "# Step 5: Train the model\n",
        "model.fit(X, y, epochs=500, verbose=0)"
      ],
      "metadata": {
        "id": "UA9i6vEwzblL",
        "colab": {
          "base_uri": "https://localhost:8080/"
        },
        "outputId": "b969e443-edab-43d1-fa7f-e667e4970efb"
      },
      "execution_count": null,
      "outputs": [
        {
          "output_type": "execute_result",
          "data": {
            "text/plain": [
              "<keras.src.callbacks.history.History at 0x79cbc1324710>"
            ]
          },
          "metadata": {},
          "execution_count": 5
        }
      ]
    },
    {
      "cell_type": "code",
      "source": [
        "# Step 6: Evaluate and Predict\n",
        "predictions = model.predict(X).round()\n",
        "print(\"\\n🧠 XOR Predictions:\")\n",
        "for i in range(len(X)):\n",
        "    print(f\"Input: {X[i]} -> Predicted Output: {int(predictions[i][0])}\")"
      ],
      "metadata": {
        "id": "D2XCibTyzeLb",
        "colab": {
          "base_uri": "https://localhost:8080/"
        },
        "outputId": "64f548fe-4577-4495-fce9-8b9e60719b1b"
      },
      "execution_count": null,
      "outputs": [
        {
          "output_type": "stream",
          "name": "stdout",
          "text": [
            "\u001b[1m1/1\u001b[0m \u001b[32m━━━━━━━━━━━━━━━━━━━━\u001b[0m\u001b[37m\u001b[0m \u001b[1m0s\u001b[0m 127ms/step\n",
            "\n",
            "🧠 XOR Predictions:\n",
            "Input: [0 0] -> Predicted Output: 0\n",
            "Input: [0 1] -> Predicted Output: 1\n",
            "Input: [1 0] -> Predicted Output: 1\n",
            "Input: [1 1] -> Predicted Output: 0\n"
          ]
        }
      ]
    }
  ]
}